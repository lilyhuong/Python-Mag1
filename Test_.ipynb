{
  "nbformat": 4,
  "nbformat_minor": 0,
  "metadata": {
    "colab": {
      "name": "Test .ipynb",
      "provenance": [],
      "collapsed_sections": [],
      "toc_visible": true,
      "authorship_tag": "ABX9TyM5CkdFj3K7RcnjWWhn/RPJ",
      "include_colab_link": true
    },
    "kernelspec": {
      "name": "python3",
      "display_name": "Python 3"
    }
  },
  "cells": [
    {
      "cell_type": "markdown",
      "metadata": {
        "id": "view-in-github",
        "colab_type": "text"
      },
      "source": [
        "<a href=\"https://colab.research.google.com/github/lilyhuong/Python-Mag1/blob/main/Test_.ipynb\" target=\"_parent\"><img src=\"https://colab.research.google.com/assets/colab-badge.svg\" alt=\"Open In Colab\"/></a>"
      ]
    },
    {
      "cell_type": "markdown",
      "metadata": {
        "id": "e1XZr8mtizH_"
      },
      "source": [
        "On utilise pandas pour convertir et utiliser les commandes avec les fiches excel, csv, etc (En général, c'est un instrument pour ouvrir les bases de données ), \n"
      ]
    },
    {
      "cell_type": "code",
      "metadata": {
        "id": "G1iBFRB1AUJU"
      },
      "source": [
        "import pandas as pd"
      ],
      "execution_count": null,
      "outputs": []
    },
    {
      "cell_type": "markdown",
      "metadata": {
        "id": "7WeMxkfhkQMR"
      },
      "source": [
        "Dans la bibliothèque matplotlib, on importe function pylot pour créer la graphique et renommer function pylot au nom de plt\n",
        "\n",
        "\n",
        "\n"
      ]
    },
    {
      "cell_type": "code",
      "metadata": {
        "id": "g0oywerqqwFx"
      },
      "source": [
        "from matplotlib import pyplot as plt"
      ],
      "execution_count": null,
      "outputs": []
    },
    {
      "cell_type": "code",
      "metadata": {
        "id": "5CicIvb9AA9T"
      },
      "source": [
        "import numpy as np\n",
        "import sklearn\n",
        "from sklearn.neural_network import MLPClassifier\n",
        "from sklearn.neural_network import MLPRegressor\n",
        "from sklearn.model_selection import train_test_split\n",
        "#from sklearn.metrics import mean_squared_error"
      ],
      "execution_count": null,
      "outputs": []
    },
    {
      "cell_type": "markdown",
      "metadata": {
        "id": "b6r7Wvxrk8Ci"
      },
      "source": [
        "On crée une varible \"graph1\", et convertir la fiche excel dans python\n",
        "\n",
        "1. On crée une varible \"graph1\", et convertir la fiche excel dans python  mais ici on utilise direct le lien que le prof il a donné sans télécharger\n",
        "2.   Les commandes\n",
        "\n",
        "\n",
        "> pd.read_excel: pour lire la fiche excel\n",
        "\n",
        "\n",
        ">(\"\", sheet_name): ouvrir la feuille \"Graph\" dans la fiche excel \"data\"\n",
        "\n",
        "\n",
        "\n",
        "\n",
        "\n",
        "\n",
        "\n",
        "\n",
        "\n"
      ]
    },
    {
      "cell_type": "code",
      "metadata": {
        "id": "KyujN2r7q56Z"
      },
      "source": [
        "graph1 = pd.read_excel(\"http://adrianchifu.com/teachings/AMSE/MAG1/data.xlsx\", sheet_name = \"Graph\")"
      ],
      "execution_count": null,
      "outputs": []
    },
    {
      "cell_type": "markdown",
      "metadata": {
        "id": "ePZMRKOcmY5j"
      },
      "source": [
        "On veut tester la fiche est bien enregistré par fonction print = On affichie la table \"graph\""
      ]
    },
    {
      "cell_type": "code",
      "metadata": {
        "id": "BONZshF9q_YG",
        "colab": {
          "base_uri": "https://localhost:8080/"
        },
        "outputId": "e53c1feb-5855-46fa-9573-01c54530719d"
      },
      "source": [
        "print(graph1)"
      ],
      "execution_count": null,
      "outputs": [
        {
          "output_type": "stream",
          "text": [
            "    Count  Timing  Sizing\n",
            "0       1     195     175\n",
            "1       2     215     189\n",
            "2       3     243     344\n",
            "3       4     162      88\n",
            "4       5     185     114\n",
            "5       6     231     338\n",
            "6       7     234     271\n",
            "7       8     166     173\n",
            "8       9     253     284\n",
            "9      10     196     277\n",
            "10     11     220     337\n",
            "11     12     168      58\n",
            "12     13     207     146\n",
            "13     14     225     277\n",
            "14     15     169     123\n",
            "15     16     215     227\n",
            "16     17     147      63\n",
            "17     18     230     337\n",
            "18     19     208     146\n",
            "19     20     172      68\n"
          ],
          "name": "stdout"
        }
      ]
    },
    {
      "cell_type": "markdown",
      "metadata": {
        "id": "14sn9D-InDir"
      },
      "source": [
        "\n",
        "\n",
        "> plt.plot() : crée une graphique avec les détails\n",
        "\n",
        "\n",
        "> plt.show(): affiche la graphique\n",
        "\n",
        "\n",
        "\n",
        "\n",
        "\n"
      ]
    },
    {
      "cell_type": "code",
      "metadata": {
        "id": "pPXqjO70rEan",
        "colab": {
          "base_uri": "https://localhost:8080/",
          "height": 295
        },
        "outputId": "4ca3bf93-86f2-42dd-f538-a25963ec7b97"
      },
      "source": [
        "plt.plot(graph1.Timing, graph1.Sizing, color = 'magenta', marker = '*', linestyle = 'dashed', linewidth = 2, \n",
        "         markersize = 10)\n",
        "plt.title(\"Sizing and Timing\")\n",
        "plt.xlabel(\"Sizing value\")\n",
        "plt.ylabel(\"Timing value\")\n",
        "plt.show()"
      ],
      "execution_count": null,
      "outputs": [
        {
          "output_type": "display_data",
          "data": {
            "image/png": "[encoded data removed]",
            "text/plain": [
              "<Figure size 432x288 with 1 Axes>"
            ]
          },
          "metadata": {
            "tags": [],
            "needs_background": "light"
          }
        }
      ]
    },
    {
      "cell_type": "markdown",
      "metadata": {
        "id": "ztl2ZaGrnutb"
      },
      "source": [
        "statsmodels: une fonction pour créer la modèle regression"
      ]
    },
    {
      "cell_type": "code",
      "metadata": {
        "id": "uACug-Rirau4",
        "colab": {
          "base_uri": "https://localhost:8080/"
        },
        "outputId": "48f8d92d-c750-430c-96a9-b8a00da20989"
      },
      "source": [
        "import statsmodels.api as sm"
      ],
      "execution_count": null,
      "outputs": [
        {
          "output_type": "stream",
          "text": [
            "/usr/local/lib/python3.6/dist-packages/statsmodels/tools/_testing.py:19: FutureWarning: pandas.util.testing is deprecated. Use the functions in the public API at pandas.testing instead.\n",
            "  import pandas.util.testing as tm\n"
          ],
          "name": "stderr"
        }
      ]
    },
    {
      "cell_type": "code",
      "metadata": {
        "id": "g24qV8uhridZ"
      },
      "source": [
        "#from patsy import dmatrices"
      ],
      "execution_count": null,
      "outputs": []
    },
    {
      "cell_type": "code",
      "metadata": {
        "id": "4EQtvCf4ro5j"
      },
      "source": [
        "question2 = pd.read_excel(\"http://adrianchifu.com/teachings/AMSE/MAG1/data.xlsx\", sheet_name = \"Regression\")"
      ],
      "execution_count": null,
      "outputs": []
    },
    {
      "cell_type": "code",
      "metadata": {
        "id": "vOw1I4-xrunm",
        "colab": {
          "base_uri": "https://localhost:8080/"
        },
        "outputId": "c1a31ea3-20a7-4a3f-ee2d-c121b5b2febd"
      },
      "source": [
        "print(question2)"
      ],
      "execution_count": null,
      "outputs": [
        {
          "output_type": "stream",
          "text": [
            "    Number of beers  Blood alcohol concentration\n",
            "0                 5                        0.100\n",
            "1                 2                        0.030\n",
            "2                 9                        0.190\n",
            "3                 8                        0.120\n",
            "4                 3                        0.040\n",
            "5                 7                        0.095\n",
            "6                 3                        0.070\n",
            "7                 5                        0.060\n",
            "8                 3                        0.020\n",
            "9                 5                        0.050\n",
            "10                4                        0.070\n",
            "11                6                        0.100\n",
            "12                5                        0.085\n",
            "13                7                        0.090\n",
            "14                1                        0.010\n",
            "15                4                        0.050\n"
          ],
          "name": "stdout"
        }
      ]
    },
    {
      "cell_type": "markdown",
      "metadata": {
        "id": "cXRWjET5oGmg"
      },
      "source": [
        "Pour faire le modèle de regression linéaire, les variables doivent être  Non-colinéarité \n",
        "\n",
        "> X = Number of beers: variable explicative\n",
        "\n",
        "\n",
        "> y = blood alcohol concentration: variable éxpliquée\n",
        "\n",
        "\n",
        "> .drop() : pour couper les variable dans la table, on utilise la fonction drop, cad éffacer la colonne \"blood alcohol concentration\"\n",
        "\n",
        "> axis = 1: choisir la colonne\n",
        "\n",
        "\n",
        "\n",
        "\n"
      ]
    },
    {
      "cell_type": "code",
      "metadata": {
        "id": "Oq7C-bver0fa"
      },
      "source": [
        "X = question2.drop(\"Blood alcohol concentration\", axis = 1)\n",
        "y = question2[[\"Blood alcohol concentration\"]]"
      ],
      "execution_count": null,
      "outputs": []
    },
    {
      "cell_type": "markdown",
      "metadata": {
        "id": "iphS2tzmrKFD"
      },
      "source": [
        "On affiche la valeur de y"
      ]
    },
    {
      "cell_type": "code",
      "metadata": {
        "id": "0RPmM4e6r4wh",
        "colab": {
          "base_uri": "https://localhost:8080/",
          "height": 521
        },
        "outputId": "e225e924-b7dc-4ee9-8571-3be9fb6e4d53"
      },
      "source": [
        "y"
      ],
      "execution_count": null,
      "outputs": [
        {
          "output_type": "execute_result",
          "data": {
            "text/html": [
              "<div>\n",
              "<style scoped>\n",
              "    .dataframe tbody tr th:only-of-type {\n",
              "        vertical-align: middle;\n",
              "    }\n",
              "\n",
              "    .dataframe tbody tr th {\n",
              "        vertical-align: top;\n",
              "    }\n",
              "\n",
              "    .dataframe thead th {\n",
              "        text-align: right;\n",
              "    }\n",
              "</style>\n",
              "<table border=\"1\" class=\"dataframe\">\n",
              "  <thead>\n",
              "    <tr style=\"text-align: right;\">\n",
              "      <th></th>\n",
              "      <th>Blood alcohol concentration</th>\n",
              "    </tr>\n",
              "  </thead>\n",
              "  <tbody>\n",
              "    <tr>\n",
              "      <th>0</th>\n",
              "      <td>0.100</td>\n",
              "    </tr>\n",
              "    <tr>\n",
              "      <th>1</th>\n",
              "      <td>0.030</td>\n",
              "    </tr>\n",
              "    <tr>\n",
              "      <th>2</th>\n",
              "      <td>0.190</td>\n",
              "    </tr>\n",
              "    <tr>\n",
              "      <th>3</th>\n",
              "      <td>0.120</td>\n",
              "    </tr>\n",
              "    <tr>\n",
              "      <th>4</th>\n",
              "      <td>0.040</td>\n",
              "    </tr>\n",
              "    <tr>\n",
              "      <th>5</th>\n",
              "      <td>0.095</td>\n",
              "    </tr>\n",
              "    <tr>\n",
              "      <th>6</th>\n",
              "      <td>0.070</td>\n",
              "    </tr>\n",
              "    <tr>\n",
              "      <th>7</th>\n",
              "      <td>0.060</td>\n",
              "    </tr>\n",
              "    <tr>\n",
              "      <th>8</th>\n",
              "      <td>0.020</td>\n",
              "    </tr>\n",
              "    <tr>\n",
              "      <th>9</th>\n",
              "      <td>0.050</td>\n",
              "    </tr>\n",
              "    <tr>\n",
              "      <th>10</th>\n",
              "      <td>0.070</td>\n",
              "    </tr>\n",
              "    <tr>\n",
              "      <th>11</th>\n",
              "      <td>0.100</td>\n",
              "    </tr>\n",
              "    <tr>\n",
              "      <th>12</th>\n",
              "      <td>0.085</td>\n",
              "    </tr>\n",
              "    <tr>\n",
              "      <th>13</th>\n",
              "      <td>0.090</td>\n",
              "    </tr>\n",
              "    <tr>\n",
              "      <th>14</th>\n",
              "      <td>0.010</td>\n",
              "    </tr>\n",
              "    <tr>\n",
              "      <th>15</th>\n",
              "      <td>0.050</td>\n",
              "    </tr>\n",
              "  </tbody>\n",
              "</table>\n",
              "</div>"
            ],
            "text/plain": [
              "    Blood alcohol concentration\n",
              "0                         0.100\n",
              "1                         0.030\n",
              "2                         0.190\n",
              "3                         0.120\n",
              "4                         0.040\n",
              "5                         0.095\n",
              "6                         0.070\n",
              "7                         0.060\n",
              "8                         0.020\n",
              "9                         0.050\n",
              "10                        0.070\n",
              "11                        0.100\n",
              "12                        0.085\n",
              "13                        0.090\n",
              "14                        0.010\n",
              "15                        0.050"
            ]
          },
          "metadata": {
            "tags": []
          },
          "execution_count": 12
        }
      ]
    },
    {
      "cell_type": "markdown",
      "metadata": {
        "id": "3XVEOMMerPLH"
      },
      "source": [
        "On affiche la valeur de X"
      ]
    },
    {
      "cell_type": "code",
      "metadata": {
        "id": "rvuluyg0r9t-",
        "colab": {
          "base_uri": "https://localhost:8080/",
          "height": 521
        },
        "outputId": "1cf50f42-0b83-4f2f-8a69-94ea66060aa2"
      },
      "source": [
        "X"
      ],
      "execution_count": null,
      "outputs": [
        {
          "output_type": "execute_result",
          "data": {
            "text/html": [
              "<div>\n",
              "<style scoped>\n",
              "    .dataframe tbody tr th:only-of-type {\n",
              "        vertical-align: middle;\n",
              "    }\n",
              "\n",
              "    .dataframe tbody tr th {\n",
              "        vertical-align: top;\n",
              "    }\n",
              "\n",
              "    .dataframe thead th {\n",
              "        text-align: right;\n",
              "    }\n",
              "</style>\n",
              "<table border=\"1\" class=\"dataframe\">\n",
              "  <thead>\n",
              "    <tr style=\"text-align: right;\">\n",
              "      <th></th>\n",
              "      <th>Number of beers</th>\n",
              "    </tr>\n",
              "  </thead>\n",
              "  <tbody>\n",
              "    <tr>\n",
              "      <th>0</th>\n",
              "      <td>5</td>\n",
              "    </tr>\n",
              "    <tr>\n",
              "      <th>1</th>\n",
              "      <td>2</td>\n",
              "    </tr>\n",
              "    <tr>\n",
              "      <th>2</th>\n",
              "      <td>9</td>\n",
              "    </tr>\n",
              "    <tr>\n",
              "      <th>3</th>\n",
              "      <td>8</td>\n",
              "    </tr>\n",
              "    <tr>\n",
              "      <th>4</th>\n",
              "      <td>3</td>\n",
              "    </tr>\n",
              "    <tr>\n",
              "      <th>5</th>\n",
              "      <td>7</td>\n",
              "    </tr>\n",
              "    <tr>\n",
              "      <th>6</th>\n",
              "      <td>3</td>\n",
              "    </tr>\n",
              "    <tr>\n",
              "      <th>7</th>\n",
              "      <td>5</td>\n",
              "    </tr>\n",
              "    <tr>\n",
              "      <th>8</th>\n",
              "      <td>3</td>\n",
              "    </tr>\n",
              "    <tr>\n",
              "      <th>9</th>\n",
              "      <td>5</td>\n",
              "    </tr>\n",
              "    <tr>\n",
              "      <th>10</th>\n",
              "      <td>4</td>\n",
              "    </tr>\n",
              "    <tr>\n",
              "      <th>11</th>\n",
              "      <td>6</td>\n",
              "    </tr>\n",
              "    <tr>\n",
              "      <th>12</th>\n",
              "      <td>5</td>\n",
              "    </tr>\n",
              "    <tr>\n",
              "      <th>13</th>\n",
              "      <td>7</td>\n",
              "    </tr>\n",
              "    <tr>\n",
              "      <th>14</th>\n",
              "      <td>1</td>\n",
              "    </tr>\n",
              "    <tr>\n",
              "      <th>15</th>\n",
              "      <td>4</td>\n",
              "    </tr>\n",
              "  </tbody>\n",
              "</table>\n",
              "</div>"
            ],
            "text/plain": [
              "    Number of beers\n",
              "0                 5\n",
              "1                 2\n",
              "2                 9\n",
              "3                 8\n",
              "4                 3\n",
              "5                 7\n",
              "6                 3\n",
              "7                 5\n",
              "8                 3\n",
              "9                 5\n",
              "10                4\n",
              "11                6\n",
              "12                5\n",
              "13                7\n",
              "14                1\n",
              "15                4"
            ]
          },
          "metadata": {
            "tags": []
          },
          "execution_count": 13
        }
      ]
    },
    {
      "cell_type": "markdown",
      "metadata": {
        "id": "cAoPz1n6r1VN"
      },
      "source": [
        "> Fonction logit () pour effectuer une régression logistique\n",
        "\n",
        "> fit(): convrtir le modèle régression en data\n",
        "\n",
        "> .summary() : affiche la table de modèle de régression \n"
      ]
    },
    {
      "cell_type": "code",
      "metadata": {
        "id": "wTMzr21ssC52",
        "colab": {
          "base_uri": "https://localhost:8080/"
        },
        "outputId": "8a42eb8e-410b-44c7-c4be-ab0d0a95a316"
      },
      "source": [
        "Model = sm.Logit(y, X)\n",
        "res = Model.fit()\n",
        "print(res.summary())"
      ],
      "execution_count": null,
      "outputs": [
        {
          "output_type": "stream",
          "text": [
            "Optimization terminated successfully.\n",
            "         Current function value: 0.180059\n",
            "         Iterations 6\n",
            "                                Logit Regression Results                               \n",
            "=======================================================================================\n",
            "Dep. Variable:     Blood alcohol concentration   No. Observations:                   16\n",
            "Model:                                   Logit   Df Residuals:                       15\n",
            "Method:                                    MLE   Df Model:                            0\n",
            "Date:                         Wed, 18 Nov 2020   Pseudo R-squ.:                     inf\n",
            "Time:                                 21:10:51   Log-Likelihood:                -2.8809\n",
            "converged:                                True   LL-Null:                        0.0000\n",
            "Covariance Type:                     nonrobust   LLR p-value:                       nan\n",
            "===================================================================================\n",
            "                      coef    std err          z      P>|z|      [0.025      0.975]\n",
            "-----------------------------------------------------------------------------------\n",
            "Number of beers    -0.4576      0.196     -2.340      0.019      -0.841      -0.074\n",
            "===================================================================================\n"
          ],
          "name": "stdout"
        },
        {
          "output_type": "stream",
          "text": [
            "/usr/local/lib/python3.6/dist-packages/statsmodels/discrete/discrete_model.py:3390: RuntimeWarning: divide by zero encountered in double_scalars\n",
            "  return 1 - self.llf/self.llnull\n"
          ],
          "name": "stderr"
        }
      ]
    },
    {
      "cell_type": "code",
      "metadata": {
        "id": "kg35PiwpAL1f"
      },
      "source": [
        "question3 = pd.read_excel(\"http://adrianchifu.com/teachings/AMSE/MAG1/data.xlsx\", sheet_name =\"NN.train\") "
      ],
      "execution_count": null,
      "outputs": []
    },
    {
      "cell_type": "code",
      "metadata": {
        "colab": {
          "base_uri": "https://localhost:8080/",
          "height": 553
        },
        "id": "rrO1Sjyl6lct",
        "outputId": "9b54d9bc-055b-4d70-e4d1-c172ed9e9536"
      },
      "source": [
        "question3"
      ],
      "execution_count": null,
      "outputs": [
        {
          "output_type": "execute_result",
          "data": {
            "text/html": [
              "<div>\n",
              "<style scoped>\n",
              "    .dataframe tbody tr th:only-of-type {\n",
              "        vertical-align: middle;\n",
              "    }\n",
              "\n",
              "    .dataframe tbody tr th {\n",
              "        vertical-align: top;\n",
              "    }\n",
              "\n",
              "    .dataframe thead th {\n",
              "        text-align: right;\n",
              "    }\n",
              "</style>\n",
              "<table border=\"1\" class=\"dataframe\">\n",
              "  <thead>\n",
              "    <tr style=\"text-align: right;\">\n",
              "      <th></th>\n",
              "      <th>39</th>\n",
              "      <th>State-gov</th>\n",
              "      <th>77516</th>\n",
              "      <th>Bachelors</th>\n",
              "      <th>13</th>\n",
              "      <th>Never-married</th>\n",
              "      <th>Adm-clerical</th>\n",
              "      <th>Not-in-family</th>\n",
              "      <th>White</th>\n",
              "      <th>Male</th>\n",
              "      <th>2174</th>\n",
              "      <th>0</th>\n",
              "      <th>40</th>\n",
              "      <th>United-States</th>\n",
              "      <th>&lt;=50K</th>\n",
              "    </tr>\n",
              "  </thead>\n",
              "  <tbody>\n",
              "    <tr>\n",
              "      <th>0</th>\n",
              "      <td>50</td>\n",
              "      <td>Self-emp-not-inc</td>\n",
              "      <td>83311</td>\n",
              "      <td>Bachelors</td>\n",
              "      <td>13</td>\n",
              "      <td>Married-civ-spouse</td>\n",
              "      <td>Exec-managerial</td>\n",
              "      <td>Husband</td>\n",
              "      <td>White</td>\n",
              "      <td>Male</td>\n",
              "      <td>0</td>\n",
              "      <td>0</td>\n",
              "      <td>13</td>\n",
              "      <td>United-States</td>\n",
              "      <td>&lt;=50K</td>\n",
              "    </tr>\n",
              "    <tr>\n",
              "      <th>1</th>\n",
              "      <td>38</td>\n",
              "      <td>Private</td>\n",
              "      <td>215646</td>\n",
              "      <td>HS-grad</td>\n",
              "      <td>9</td>\n",
              "      <td>Divorced</td>\n",
              "      <td>Handlers-cleaners</td>\n",
              "      <td>Not-in-family</td>\n",
              "      <td>White</td>\n",
              "      <td>Male</td>\n",
              "      <td>0</td>\n",
              "      <td>0</td>\n",
              "      <td>40</td>\n",
              "      <td>United-States</td>\n",
              "      <td>&lt;=50K</td>\n",
              "    </tr>\n",
              "    <tr>\n",
              "      <th>2</th>\n",
              "      <td>53</td>\n",
              "      <td>Private</td>\n",
              "      <td>234721</td>\n",
              "      <td>11th</td>\n",
              "      <td>7</td>\n",
              "      <td>Married-civ-spouse</td>\n",
              "      <td>Handlers-cleaners</td>\n",
              "      <td>Husband</td>\n",
              "      <td>Black</td>\n",
              "      <td>Male</td>\n",
              "      <td>0</td>\n",
              "      <td>0</td>\n",
              "      <td>40</td>\n",
              "      <td>United-States</td>\n",
              "      <td>&lt;=50K</td>\n",
              "    </tr>\n",
              "    <tr>\n",
              "      <th>3</th>\n",
              "      <td>28</td>\n",
              "      <td>Private</td>\n",
              "      <td>338409</td>\n",
              "      <td>Bachelors</td>\n",
              "      <td>13</td>\n",
              "      <td>Married-civ-spouse</td>\n",
              "      <td>Prof-specialty</td>\n",
              "      <td>Wife</td>\n",
              "      <td>Black</td>\n",
              "      <td>Female</td>\n",
              "      <td>0</td>\n",
              "      <td>0</td>\n",
              "      <td>40</td>\n",
              "      <td>Cuba</td>\n",
              "      <td>&lt;=50K</td>\n",
              "    </tr>\n",
              "    <tr>\n",
              "      <th>4</th>\n",
              "      <td>37</td>\n",
              "      <td>Private</td>\n",
              "      <td>284582</td>\n",
              "      <td>Masters</td>\n",
              "      <td>14</td>\n",
              "      <td>Married-civ-spouse</td>\n",
              "      <td>Exec-managerial</td>\n",
              "      <td>Wife</td>\n",
              "      <td>White</td>\n",
              "      <td>Female</td>\n",
              "      <td>0</td>\n",
              "      <td>0</td>\n",
              "      <td>40</td>\n",
              "      <td>United-States</td>\n",
              "      <td>&lt;=50K</td>\n",
              "    </tr>\n",
              "    <tr>\n",
              "      <th>...</th>\n",
              "      <td>...</td>\n",
              "      <td>...</td>\n",
              "      <td>...</td>\n",
              "      <td>...</td>\n",
              "      <td>...</td>\n",
              "      <td>...</td>\n",
              "      <td>...</td>\n",
              "      <td>...</td>\n",
              "      <td>...</td>\n",
              "      <td>...</td>\n",
              "      <td>...</td>\n",
              "      <td>...</td>\n",
              "      <td>...</td>\n",
              "      <td>...</td>\n",
              "      <td>...</td>\n",
              "    </tr>\n",
              "    <tr>\n",
              "      <th>32555</th>\n",
              "      <td>27</td>\n",
              "      <td>Private</td>\n",
              "      <td>257302</td>\n",
              "      <td>Assoc-acdm</td>\n",
              "      <td>12</td>\n",
              "      <td>Married-civ-spouse</td>\n",
              "      <td>Tech-support</td>\n",
              "      <td>Wife</td>\n",
              "      <td>White</td>\n",
              "      <td>Female</td>\n",
              "      <td>0</td>\n",
              "      <td>0</td>\n",
              "      <td>38</td>\n",
              "      <td>United-States</td>\n",
              "      <td>&lt;=50K</td>\n",
              "    </tr>\n",
              "    <tr>\n",
              "      <th>32556</th>\n",
              "      <td>40</td>\n",
              "      <td>Private</td>\n",
              "      <td>154374</td>\n",
              "      <td>HS-grad</td>\n",
              "      <td>9</td>\n",
              "      <td>Married-civ-spouse</td>\n",
              "      <td>Machine-op-inspct</td>\n",
              "      <td>Husband</td>\n",
              "      <td>White</td>\n",
              "      <td>Male</td>\n",
              "      <td>0</td>\n",
              "      <td>0</td>\n",
              "      <td>40</td>\n",
              "      <td>United-States</td>\n",
              "      <td>&gt;50K</td>\n",
              "    </tr>\n",
              "    <tr>\n",
              "      <th>32557</th>\n",
              "      <td>58</td>\n",
              "      <td>Private</td>\n",
              "      <td>151910</td>\n",
              "      <td>HS-grad</td>\n",
              "      <td>9</td>\n",
              "      <td>Widowed</td>\n",
              "      <td>Adm-clerical</td>\n",
              "      <td>Unmarried</td>\n",
              "      <td>White</td>\n",
              "      <td>Female</td>\n",
              "      <td>0</td>\n",
              "      <td>0</td>\n",
              "      <td>40</td>\n",
              "      <td>United-States</td>\n",
              "      <td>&lt;=50K</td>\n",
              "    </tr>\n",
              "    <tr>\n",
              "      <th>32558</th>\n",
              "      <td>22</td>\n",
              "      <td>Private</td>\n",
              "      <td>201490</td>\n",
              "      <td>HS-grad</td>\n",
              "      <td>9</td>\n",
              "      <td>Never-married</td>\n",
              "      <td>Adm-clerical</td>\n",
              "      <td>Own-child</td>\n",
              "      <td>White</td>\n",
              "      <td>Male</td>\n",
              "      <td>0</td>\n",
              "      <td>0</td>\n",
              "      <td>20</td>\n",
              "      <td>United-States</td>\n",
              "      <td>&lt;=50K</td>\n",
              "    </tr>\n",
              "    <tr>\n",
              "      <th>32559</th>\n",
              "      <td>52</td>\n",
              "      <td>Self-emp-inc</td>\n",
              "      <td>287927</td>\n",
              "      <td>HS-grad</td>\n",
              "      <td>9</td>\n",
              "      <td>Married-civ-spouse</td>\n",
              "      <td>Exec-managerial</td>\n",
              "      <td>Wife</td>\n",
              "      <td>White</td>\n",
              "      <td>Female</td>\n",
              "      <td>15024</td>\n",
              "      <td>0</td>\n",
              "      <td>40</td>\n",
              "      <td>United-States</td>\n",
              "      <td>&gt;50K</td>\n",
              "    </tr>\n",
              "  </tbody>\n",
              "</table>\n",
              "<p>32560 rows × 15 columns</p>\n",
              "</div>"
            ],
            "text/plain": [
              "       39          State-gov   77516    Bachelors  ...  0  40   United-States  <=50K\n",
              "0      50   Self-emp-not-inc   83311    Bachelors  ...  0  13   United-States  <=50K\n",
              "1      38            Private  215646      HS-grad  ...  0  40   United-States  <=50K\n",
              "2      53            Private  234721         11th  ...  0  40   United-States  <=50K\n",
              "3      28            Private  338409    Bachelors  ...  0  40            Cuba  <=50K\n",
              "4      37            Private  284582      Masters  ...  0  40   United-States  <=50K\n",
              "...    ..                ...     ...          ...  ... ..  ..             ...    ...\n",
              "32555  27            Private  257302   Assoc-acdm  ...  0  38   United-States  <=50K\n",
              "32556  40            Private  154374      HS-grad  ...  0  40   United-States   >50K\n",
              "32557  58            Private  151910      HS-grad  ...  0  40   United-States  <=50K\n",
              "32558  22            Private  201490      HS-grad  ...  0  20   United-States  <=50K\n",
              "32559  52       Self-emp-inc  287927      HS-grad  ...  0  40   United-States   >50K\n",
              "\n",
              "[32560 rows x 15 columns]"
            ]
          },
          "metadata": {
            "tags": []
          },
          "execution_count": 19
        }
      ]
    },
    {
      "cell_type": "markdown",
      "metadata": {
        "id": "WrpV1FAT7HR5"
      },
      "source": [
        "A partir de cette table, on peut voir que, python appris la première ligne comme les noms des colonnes, autrement dit, on doit chercher et crée les noms des colonnes pour cette table\n",
        "\n",
        "\n",
        "> Dans ce cas là, on utilise l'attribut de \"pandas\"\n",
        "\n",
        "```\n",
        ".columns\n",
        "```\n",
        "\n",
        "pour ajouter les noms \n",
        "\n",
        "\n",
        "\n",
        "\n"
      ]
    },
    {
      "cell_type": "code",
      "metadata": {
        "id": "Kxi9LJZ_Afpy"
      },
      "source": [
        "question3.columns = [\"age\",\"workclass\", \"fnlwgt\", \"education\", \"education-num\", \"marital-status\",\n",
        "\"occupation\", \"relationship\", \"race\", \"sex\", \"capital-gain\", \"capital-loss\",\"hours-per-week\"\n",
        ",\"native-country\", \"income\"]"
      ],
      "execution_count": null,
      "outputs": []
    },
    {
      "cell_type": "markdown",
      "metadata": {
        "id": "3r6fmfwQ8WCB"
      },
      "source": [
        "\n",
        "\n",
        "```\n",
        ".shape()\n",
        "```\n",
        "On utilise l'atribut shape de \"pandas\" pour compter les observations et les variables\n",
        "> Ici on a 32560 observations et 15 varriables\n",
        "\n",
        "\n",
        "\n",
        "```\n",
        ".describe()\n",
        "```\n",
        "L'attribut describe() pour chercher la variance, min, max, moyennes des variables\n",
        "> Note: dans cette table, on peut trouver qu'il y a 6 variables, mais on a au total 15 variables, on va chercher c'est quoi la problème ici ?\n",
        "\n",
        "\n"
      ]
    },
    {
      "cell_type": "code",
      "metadata": {
        "id": "Iwtnn_HxAi4g",
        "colab": {
          "base_uri": "https://localhost:8080/",
          "height": 301
        },
        "outputId": "0bbbfc1a-efd2-4d8e-8171-77e51ed1c9ae"
      },
      "source": [
        "print(question3.shape)\n",
        "question3.describe()"
      ],
      "execution_count": null,
      "outputs": [
        {
          "output_type": "stream",
          "text": [
            "(32560, 15)\n"
          ],
          "name": "stdout"
        },
        {
          "output_type": "execute_result",
          "data": {
            "text/html": [
              "<div>\n",
              "<style scoped>\n",
              "    .dataframe tbody tr th:only-of-type {\n",
              "        vertical-align: middle;\n",
              "    }\n",
              "\n",
              "    .dataframe tbody tr th {\n",
              "        vertical-align: top;\n",
              "    }\n",
              "\n",
              "    .dataframe thead th {\n",
              "        text-align: right;\n",
              "    }\n",
              "</style>\n",
              "<table border=\"1\" class=\"dataframe\">\n",
              "  <thead>\n",
              "    <tr style=\"text-align: right;\">\n",
              "      <th></th>\n",
              "      <th>age</th>\n",
              "      <th>fnlwgt</th>\n",
              "      <th>education-num</th>\n",
              "      <th>capital-gain</th>\n",
              "      <th>capital-loss</th>\n",
              "      <th>hours-per-week</th>\n",
              "    </tr>\n",
              "  </thead>\n",
              "  <tbody>\n",
              "    <tr>\n",
              "      <th>count</th>\n",
              "      <td>32560.000000</td>\n",
              "      <td>3.256000e+04</td>\n",
              "      <td>32560.000000</td>\n",
              "      <td>32560.000000</td>\n",
              "      <td>32560.000000</td>\n",
              "      <td>32560.000000</td>\n",
              "    </tr>\n",
              "    <tr>\n",
              "      <th>mean</th>\n",
              "      <td>38.581634</td>\n",
              "      <td>1.897818e+05</td>\n",
              "      <td>10.080590</td>\n",
              "      <td>1077.615172</td>\n",
              "      <td>87.306511</td>\n",
              "      <td>40.437469</td>\n",
              "    </tr>\n",
              "    <tr>\n",
              "      <th>std</th>\n",
              "      <td>13.640642</td>\n",
              "      <td>1.055498e+05</td>\n",
              "      <td>2.572709</td>\n",
              "      <td>7385.402999</td>\n",
              "      <td>402.966116</td>\n",
              "      <td>12.347618</td>\n",
              "    </tr>\n",
              "    <tr>\n",
              "      <th>min</th>\n",
              "      <td>17.000000</td>\n",
              "      <td>1.228500e+04</td>\n",
              "      <td>1.000000</td>\n",
              "      <td>0.000000</td>\n",
              "      <td>0.000000</td>\n",
              "      <td>1.000000</td>\n",
              "    </tr>\n",
              "    <tr>\n",
              "      <th>25%</th>\n",
              "      <td>28.000000</td>\n",
              "      <td>1.178315e+05</td>\n",
              "      <td>9.000000</td>\n",
              "      <td>0.000000</td>\n",
              "      <td>0.000000</td>\n",
              "      <td>40.000000</td>\n",
              "    </tr>\n",
              "    <tr>\n",
              "      <th>50%</th>\n",
              "      <td>37.000000</td>\n",
              "      <td>1.783630e+05</td>\n",
              "      <td>10.000000</td>\n",
              "      <td>0.000000</td>\n",
              "      <td>0.000000</td>\n",
              "      <td>40.000000</td>\n",
              "    </tr>\n",
              "    <tr>\n",
              "      <th>75%</th>\n",
              "      <td>48.000000</td>\n",
              "      <td>2.370545e+05</td>\n",
              "      <td>12.000000</td>\n",
              "      <td>0.000000</td>\n",
              "      <td>0.000000</td>\n",
              "      <td>45.000000</td>\n",
              "    </tr>\n",
              "    <tr>\n",
              "      <th>max</th>\n",
              "      <td>90.000000</td>\n",
              "      <td>1.484705e+06</td>\n",
              "      <td>16.000000</td>\n",
              "      <td>99999.000000</td>\n",
              "      <td>4356.000000</td>\n",
              "      <td>99.000000</td>\n",
              "    </tr>\n",
              "  </tbody>\n",
              "</table>\n",
              "</div>"
            ],
            "text/plain": [
              "                age        fnlwgt  ...  capital-loss  hours-per-week\n",
              "count  32560.000000  3.256000e+04  ...  32560.000000    32560.000000\n",
              "mean      38.581634  1.897818e+05  ...     87.306511       40.437469\n",
              "std       13.640642  1.055498e+05  ...    402.966116       12.347618\n",
              "min       17.000000  1.228500e+04  ...      0.000000        1.000000\n",
              "25%       28.000000  1.178315e+05  ...      0.000000       40.000000\n",
              "50%       37.000000  1.783630e+05  ...      0.000000       40.000000\n",
              "75%       48.000000  2.370545e+05  ...      0.000000       45.000000\n",
              "max       90.000000  1.484705e+06  ...   4356.000000       99.000000\n",
              "\n",
              "[8 rows x 6 columns]"
            ]
          },
          "metadata": {
            "tags": []
          },
          "execution_count": 21
        }
      ]
    },
    {
      "cell_type": "markdown",
      "metadata": {
        "id": "Y5HrOce3-hbz"
      },
      "source": [
        "\n",
        "\n",
        "```\n",
        ".dtypes\n",
        "```\n",
        "L'attribut dtypes c'est une fonction pour chercher les types des variables \n",
        "\n"
      ]
    },
    {
      "cell_type": "code",
      "metadata": {
        "id": "dteWRLEpAn0k",
        "colab": {
          "base_uri": "https://localhost:8080/"
        },
        "outputId": "065b03b0-3487-4302-842c-37abb8371963"
      },
      "source": [
        "question3.dtypes"
      ],
      "execution_count": null,
      "outputs": [
        {
          "output_type": "execute_result",
          "data": {
            "text/plain": [
              "age                int64\n",
              "workclass         object\n",
              "fnlwgt             int64\n",
              "education         object\n",
              "education-num      int64\n",
              "marital-status    object\n",
              "occupation        object\n",
              "relationship      object\n",
              "race              object\n",
              "sex               object\n",
              "capital-gain       int64\n",
              "capital-loss       int64\n",
              "hours-per-week     int64\n",
              "native-country    object\n",
              "income            object\n",
              "dtype: object"
            ]
          },
          "metadata": {
            "tags": []
          },
          "execution_count": 22
        }
      ]
    },
    {
      "cell_type": "markdown",
      "metadata": {
        "id": "GKhgJDNs-4Vi"
      },
      "source": [
        "\n",
        "\n",
        "> A partir de cette table, on peut voir que il y certains varibles en type d'objet (9 variables). C'est la réponse pour la question pourquoi dans la table \"describes\"  (Min, max,etc) on a que 6 variables\n",
        "\n",
        "\n",
        "> Pour résoudre cette problème, on doit convertir les types des variables à integer pour utiliser\n",
        "\n",
        "\n",
        "> Et la fonction LabelEncoder va résoucre cette problème\n",
        "\n",
        "\n",
        "\n",
        "\n",
        "\n",
        "\n"
      ]
    },
    {
      "cell_type": "code",
      "metadata": {
        "id": "9yNZ65G3A7GZ"
      },
      "source": [
        "from sklearn.preprocessing import LabelEncoder"
      ],
      "execution_count": null,
      "outputs": []
    },
    {
      "cell_type": "markdown",
      "metadata": {
        "id": "Bxs9aNrJ__Pc"
      },
      "source": [
        "On renomme la fonction labelEncoder au nom de lb_make\n",
        "\n",
        "\n",
        "```\n",
        ".fit_transform()\n",
        "```\n",
        "L 'attribut fit_transform est utilisé pour changer le type des varibles dans cette table\n",
        "\n",
        "\n",
        "> .head(x): affiche x prèmière lignes de base de donnée\n",
        "\n",
        "\n"
      ]
    },
    {
      "cell_type": "code",
      "metadata": {
        "id": "4BmbOXx5Hmny",
        "colab": {
          "base_uri": "https://localhost:8080/",
          "height": 274
        },
        "outputId": "3227f0de-cb67-44b5-f5c3-9a44b09061bb"
      },
      "source": [
        "lb_make = LabelEncoder()\n",
        "question3['workclass_code'] = lb_make.fit_transform(question3[\"workclass\"])\n",
        "question3['education_code'] = lb_make.fit_transform(question3[\"education\"])\n",
        "question3['marital-status_code'] = lb_make.fit_transform(question3[\"marital-status\"])\n",
        "question3['occupation_code'] = lb_make.fit_transform(question3[\"occupation\"])\n",
        "question3['relationship_code'] = lb_make.fit_transform(question3[\"relationship\"])\n",
        "question3['race_code'] = lb_make.fit_transform(question3[\"race\"])\n",
        "question3['sex_code'] = lb_make.fit_transform(question3[\"sex\"])\n",
        "question3['native-country_code'] = lb_make.fit_transform(question3[\"native-country\"])\n",
        "question3['income_code'] = lb_make.fit_transform(question3[\"income\"])\n",
        "question3.head(3)"
      ],
      "execution_count": null,
      "outputs": [
        {
          "output_type": "execute_result",
          "data": {
            "text/html": [
              "<div>\n",
              "<style scoped>\n",
              "    .dataframe tbody tr th:only-of-type {\n",
              "        vertical-align: middle;\n",
              "    }\n",
              "\n",
              "    .dataframe tbody tr th {\n",
              "        vertical-align: top;\n",
              "    }\n",
              "\n",
              "    .dataframe thead th {\n",
              "        text-align: right;\n",
              "    }\n",
              "</style>\n",
              "<table border=\"1\" class=\"dataframe\">\n",
              "  <thead>\n",
              "    <tr style=\"text-align: right;\">\n",
              "      <th></th>\n",
              "      <th>age</th>\n",
              "      <th>workclass</th>\n",
              "      <th>fnlwgt</th>\n",
              "      <th>education</th>\n",
              "      <th>education-num</th>\n",
              "      <th>marital-status</th>\n",
              "      <th>occupation</th>\n",
              "      <th>relationship</th>\n",
              "      <th>race</th>\n",
              "      <th>sex</th>\n",
              "      <th>capital-gain</th>\n",
              "      <th>capital-loss</th>\n",
              "      <th>hours-per-week</th>\n",
              "      <th>native-country</th>\n",
              "      <th>income</th>\n",
              "      <th>workclass_code</th>\n",
              "      <th>education_code</th>\n",
              "      <th>marital-status_code</th>\n",
              "      <th>occupation_code</th>\n",
              "      <th>relationship_code</th>\n",
              "      <th>race_code</th>\n",
              "      <th>sex_code</th>\n",
              "      <th>native-country_code</th>\n",
              "      <th>income_code</th>\n",
              "    </tr>\n",
              "  </thead>\n",
              "  <tbody>\n",
              "    <tr>\n",
              "      <th>0</th>\n",
              "      <td>50</td>\n",
              "      <td>Self-emp-not-inc</td>\n",
              "      <td>83311</td>\n",
              "      <td>Bachelors</td>\n",
              "      <td>13</td>\n",
              "      <td>Married-civ-spouse</td>\n",
              "      <td>Exec-managerial</td>\n",
              "      <td>Husband</td>\n",
              "      <td>White</td>\n",
              "      <td>Male</td>\n",
              "      <td>0</td>\n",
              "      <td>0</td>\n",
              "      <td>13</td>\n",
              "      <td>United-States</td>\n",
              "      <td>&lt;=50K</td>\n",
              "      <td>6</td>\n",
              "      <td>9</td>\n",
              "      <td>2</td>\n",
              "      <td>4</td>\n",
              "      <td>0</td>\n",
              "      <td>4</td>\n",
              "      <td>1</td>\n",
              "      <td>39</td>\n",
              "      <td>0</td>\n",
              "    </tr>\n",
              "    <tr>\n",
              "      <th>1</th>\n",
              "      <td>38</td>\n",
              "      <td>Private</td>\n",
              "      <td>215646</td>\n",
              "      <td>HS-grad</td>\n",
              "      <td>9</td>\n",
              "      <td>Divorced</td>\n",
              "      <td>Handlers-cleaners</td>\n",
              "      <td>Not-in-family</td>\n",
              "      <td>White</td>\n",
              "      <td>Male</td>\n",
              "      <td>0</td>\n",
              "      <td>0</td>\n",
              "      <td>40</td>\n",
              "      <td>United-States</td>\n",
              "      <td>&lt;=50K</td>\n",
              "      <td>4</td>\n",
              "      <td>11</td>\n",
              "      <td>0</td>\n",
              "      <td>6</td>\n",
              "      <td>1</td>\n",
              "      <td>4</td>\n",
              "      <td>1</td>\n",
              "      <td>39</td>\n",
              "      <td>0</td>\n",
              "    </tr>\n",
              "    <tr>\n",
              "      <th>2</th>\n",
              "      <td>53</td>\n",
              "      <td>Private</td>\n",
              "      <td>234721</td>\n",
              "      <td>11th</td>\n",
              "      <td>7</td>\n",
              "      <td>Married-civ-spouse</td>\n",
              "      <td>Handlers-cleaners</td>\n",
              "      <td>Husband</td>\n",
              "      <td>Black</td>\n",
              "      <td>Male</td>\n",
              "      <td>0</td>\n",
              "      <td>0</td>\n",
              "      <td>40</td>\n",
              "      <td>United-States</td>\n",
              "      <td>&lt;=50K</td>\n",
              "      <td>4</td>\n",
              "      <td>1</td>\n",
              "      <td>2</td>\n",
              "      <td>6</td>\n",
              "      <td>0</td>\n",
              "      <td>2</td>\n",
              "      <td>1</td>\n",
              "      <td>39</td>\n",
              "      <td>0</td>\n",
              "    </tr>\n",
              "  </tbody>\n",
              "</table>\n",
              "</div>"
            ],
            "text/plain": [
              "   age          workclass  fnlwgt  ... sex_code  native-country_code income_code\n",
              "0   50   Self-emp-not-inc   83311  ...        1                   39           0\n",
              "1   38            Private  215646  ...        1                   39           0\n",
              "2   53            Private  234721  ...        1                   39           0\n",
              "\n",
              "[3 rows x 24 columns]"
            ]
          },
          "metadata": {
            "tags": []
          },
          "execution_count": 24
        }
      ]
    },
    {
      "cell_type": "markdown",
      "metadata": {
        "id": "Sh7tQzsoA0VW"
      },
      "source": [
        "On effacé les colonnes en type de 'objet' par l'attribut \".drop\""
      ]
    },
    {
      "cell_type": "code",
      "metadata": {
        "id": "RLNCsgj8JOvm"
      },
      "source": [
        "question3 = question3.drop([\"workclass\", \"education\", \"marital-status\", \"occupation\"\n",
        ", \"relationship\",\"race\", \"sex\", \"income\", \"native-country\"], axis = 1 )"
      ],
      "execution_count": null,
      "outputs": []
    },
    {
      "cell_type": "code",
      "metadata": {
        "id": "ojzP5UwAO2bK",
        "colab": {
          "base_uri": "https://localhost:8080/",
          "height": 455
        },
        "outputId": "35c48c51-ae34-400f-95a2-3ca36002ae64"
      },
      "source": [
        "question3"
      ],
      "execution_count": null,
      "outputs": [
        {
          "output_type": "execute_result",
          "data": {
            "text/html": [
              "<div>\n",
              "<style scoped>\n",
              "    .dataframe tbody tr th:only-of-type {\n",
              "        vertical-align: middle;\n",
              "    }\n",
              "\n",
              "    .dataframe tbody tr th {\n",
              "        vertical-align: top;\n",
              "    }\n",
              "\n",
              "    .dataframe thead th {\n",
              "        text-align: right;\n",
              "    }\n",
              "</style>\n",
              "<table border=\"1\" class=\"dataframe\">\n",
              "  <thead>\n",
              "    <tr style=\"text-align: right;\">\n",
              "      <th></th>\n",
              "      <th>age</th>\n",
              "      <th>fnlwgt</th>\n",
              "      <th>education-num</th>\n",
              "      <th>capital-gain</th>\n",
              "      <th>capital-loss</th>\n",
              "      <th>hours-per-week</th>\n",
              "      <th>workclass_code</th>\n",
              "      <th>education_code</th>\n",
              "      <th>marital-status_code</th>\n",
              "      <th>occupation_code</th>\n",
              "      <th>relationship_code</th>\n",
              "      <th>race_code</th>\n",
              "      <th>sex_code</th>\n",
              "      <th>native-country_code</th>\n",
              "      <th>income_code</th>\n",
              "    </tr>\n",
              "  </thead>\n",
              "  <tbody>\n",
              "    <tr>\n",
              "      <th>0</th>\n",
              "      <td>50</td>\n",
              "      <td>83311</td>\n",
              "      <td>13</td>\n",
              "      <td>0</td>\n",
              "      <td>0</td>\n",
              "      <td>13</td>\n",
              "      <td>6</td>\n",
              "      <td>9</td>\n",
              "      <td>2</td>\n",
              "      <td>4</td>\n",
              "      <td>0</td>\n",
              "      <td>4</td>\n",
              "      <td>1</td>\n",
              "      <td>39</td>\n",
              "      <td>0</td>\n",
              "    </tr>\n",
              "    <tr>\n",
              "      <th>1</th>\n",
              "      <td>38</td>\n",
              "      <td>215646</td>\n",
              "      <td>9</td>\n",
              "      <td>0</td>\n",
              "      <td>0</td>\n",
              "      <td>40</td>\n",
              "      <td>4</td>\n",
              "      <td>11</td>\n",
              "      <td>0</td>\n",
              "      <td>6</td>\n",
              "      <td>1</td>\n",
              "      <td>4</td>\n",
              "      <td>1</td>\n",
              "      <td>39</td>\n",
              "      <td>0</td>\n",
              "    </tr>\n",
              "    <tr>\n",
              "      <th>2</th>\n",
              "      <td>53</td>\n",
              "      <td>234721</td>\n",
              "      <td>7</td>\n",
              "      <td>0</td>\n",
              "      <td>0</td>\n",
              "      <td>40</td>\n",
              "      <td>4</td>\n",
              "      <td>1</td>\n",
              "      <td>2</td>\n",
              "      <td>6</td>\n",
              "      <td>0</td>\n",
              "      <td>2</td>\n",
              "      <td>1</td>\n",
              "      <td>39</td>\n",
              "      <td>0</td>\n",
              "    </tr>\n",
              "    <tr>\n",
              "      <th>3</th>\n",
              "      <td>28</td>\n",
              "      <td>338409</td>\n",
              "      <td>13</td>\n",
              "      <td>0</td>\n",
              "      <td>0</td>\n",
              "      <td>40</td>\n",
              "      <td>4</td>\n",
              "      <td>9</td>\n",
              "      <td>2</td>\n",
              "      <td>10</td>\n",
              "      <td>5</td>\n",
              "      <td>2</td>\n",
              "      <td>0</td>\n",
              "      <td>5</td>\n",
              "      <td>0</td>\n",
              "    </tr>\n",
              "    <tr>\n",
              "      <th>4</th>\n",
              "      <td>37</td>\n",
              "      <td>284582</td>\n",
              "      <td>14</td>\n",
              "      <td>0</td>\n",
              "      <td>0</td>\n",
              "      <td>40</td>\n",
              "      <td>4</td>\n",
              "      <td>12</td>\n",
              "      <td>2</td>\n",
              "      <td>4</td>\n",
              "      <td>5</td>\n",
              "      <td>4</td>\n",
              "      <td>0</td>\n",
              "      <td>39</td>\n",
              "      <td>0</td>\n",
              "    </tr>\n",
              "    <tr>\n",
              "      <th>...</th>\n",
              "      <td>...</td>\n",
              "      <td>...</td>\n",
              "      <td>...</td>\n",
              "      <td>...</td>\n",
              "      <td>...</td>\n",
              "      <td>...</td>\n",
              "      <td>...</td>\n",
              "      <td>...</td>\n",
              "      <td>...</td>\n",
              "      <td>...</td>\n",
              "      <td>...</td>\n",
              "      <td>...</td>\n",
              "      <td>...</td>\n",
              "      <td>...</td>\n",
              "      <td>...</td>\n",
              "    </tr>\n",
              "    <tr>\n",
              "      <th>32555</th>\n",
              "      <td>27</td>\n",
              "      <td>257302</td>\n",
              "      <td>12</td>\n",
              "      <td>0</td>\n",
              "      <td>0</td>\n",
              "      <td>38</td>\n",
              "      <td>4</td>\n",
              "      <td>7</td>\n",
              "      <td>2</td>\n",
              "      <td>13</td>\n",
              "      <td>5</td>\n",
              "      <td>4</td>\n",
              "      <td>0</td>\n",
              "      <td>39</td>\n",
              "      <td>0</td>\n",
              "    </tr>\n",
              "    <tr>\n",
              "      <th>32556</th>\n",
              "      <td>40</td>\n",
              "      <td>154374</td>\n",
              "      <td>9</td>\n",
              "      <td>0</td>\n",
              "      <td>0</td>\n",
              "      <td>40</td>\n",
              "      <td>4</td>\n",
              "      <td>11</td>\n",
              "      <td>2</td>\n",
              "      <td>7</td>\n",
              "      <td>0</td>\n",
              "      <td>4</td>\n",
              "      <td>1</td>\n",
              "      <td>39</td>\n",
              "      <td>1</td>\n",
              "    </tr>\n",
              "    <tr>\n",
              "      <th>32557</th>\n",
              "      <td>58</td>\n",
              "      <td>151910</td>\n",
              "      <td>9</td>\n",
              "      <td>0</td>\n",
              "      <td>0</td>\n",
              "      <td>40</td>\n",
              "      <td>4</td>\n",
              "      <td>11</td>\n",
              "      <td>6</td>\n",
              "      <td>1</td>\n",
              "      <td>4</td>\n",
              "      <td>4</td>\n",
              "      <td>0</td>\n",
              "      <td>39</td>\n",
              "      <td>0</td>\n",
              "    </tr>\n",
              "    <tr>\n",
              "      <th>32558</th>\n",
              "      <td>22</td>\n",
              "      <td>201490</td>\n",
              "      <td>9</td>\n",
              "      <td>0</td>\n",
              "      <td>0</td>\n",
              "      <td>20</td>\n",
              "      <td>4</td>\n",
              "      <td>11</td>\n",
              "      <td>4</td>\n",
              "      <td>1</td>\n",
              "      <td>3</td>\n",
              "      <td>4</td>\n",
              "      <td>1</td>\n",
              "      <td>39</td>\n",
              "      <td>0</td>\n",
              "    </tr>\n",
              "    <tr>\n",
              "      <th>32559</th>\n",
              "      <td>52</td>\n",
              "      <td>287927</td>\n",
              "      <td>9</td>\n",
              "      <td>15024</td>\n",
              "      <td>0</td>\n",
              "      <td>40</td>\n",
              "      <td>5</td>\n",
              "      <td>11</td>\n",
              "      <td>2</td>\n",
              "      <td>4</td>\n",
              "      <td>5</td>\n",
              "      <td>4</td>\n",
              "      <td>0</td>\n",
              "      <td>39</td>\n",
              "      <td>1</td>\n",
              "    </tr>\n",
              "  </tbody>\n",
              "</table>\n",
              "<p>32560 rows × 15 columns</p>\n",
              "</div>"
            ],
            "text/plain": [
              "       age  fnlwgt  education-num  ...  sex_code  native-country_code  income_code\n",
              "0       50   83311             13  ...         1                   39            0\n",
              "1       38  215646              9  ...         1                   39            0\n",
              "2       53  234721              7  ...         1                   39            0\n",
              "3       28  338409             13  ...         0                    5            0\n",
              "4       37  284582             14  ...         0                   39            0\n",
              "...    ...     ...            ...  ...       ...                  ...          ...\n",
              "32555   27  257302             12  ...         0                   39            0\n",
              "32556   40  154374              9  ...         1                   39            1\n",
              "32557   58  151910              9  ...         0                   39            0\n",
              "32558   22  201490              9  ...         1                   39            0\n",
              "32559   52  287927              9  ...         0                   39            1\n",
              "\n",
              "[32560 rows x 15 columns]"
            ]
          },
          "metadata": {
            "tags": []
          },
          "execution_count": 26
        }
      ]
    },
    {
      "cell_type": "markdown",
      "metadata": {
        "id": "MjoGKEywCKNC"
      },
      "source": [
        "> La première ligne, on crée un objet target_column,  cette variable ne change pas \n",
        "\n",
        "> La deuxième ligne nous donne la liste de toutes les caractéristiques, \n",
        "\n",
        "> la troisième ligne normalise les prédicteurs."
      ]
    },
    {
      "cell_type": "code",
      "metadata": {
        "id": "S_a4SktGO7CW",
        "colab": {
          "base_uri": "https://localhost:8080/",
          "height": 321
        },
        "outputId": "4b608b7c-e1f4-4c09-98a9-52edbb97463c"
      },
      "source": [
        "target_column = [\"income_code\"]\n",
        "predictors = list(set(list(question3.columns)) - set(target_column))\n",
        "question3[predictors] = question3[predictors] / question3[predictors].max()\n",
        "question3.describe()"
      ],
      "execution_count": null,
      "outputs": [
        {
          "output_type": "execute_result",
          "data": {
            "text/html": [
              "<div>\n",
              "<style scoped>\n",
              "    .dataframe tbody tr th:only-of-type {\n",
              "        vertical-align: middle;\n",
              "    }\n",
              "\n",
              "    .dataframe tbody tr th {\n",
              "        vertical-align: top;\n",
              "    }\n",
              "\n",
              "    .dataframe thead th {\n",
              "        text-align: right;\n",
              "    }\n",
              "</style>\n",
              "<table border=\"1\" class=\"dataframe\">\n",
              "  <thead>\n",
              "    <tr style=\"text-align: right;\">\n",
              "      <th></th>\n",
              "      <th>age</th>\n",
              "      <th>fnlwgt</th>\n",
              "      <th>education-num</th>\n",
              "      <th>capital-gain</th>\n",
              "      <th>capital-loss</th>\n",
              "      <th>hours-per-week</th>\n",
              "      <th>workclass_code</th>\n",
              "      <th>education_code</th>\n",
              "      <th>marital-status_code</th>\n",
              "      <th>occupation_code</th>\n",
              "      <th>relationship_code</th>\n",
              "      <th>race_code</th>\n",
              "      <th>sex_code</th>\n",
              "      <th>native-country_code</th>\n",
              "      <th>income_code</th>\n",
              "    </tr>\n",
              "  </thead>\n",
              "  <tbody>\n",
              "    <tr>\n",
              "      <th>count</th>\n",
              "      <td>32560.000000</td>\n",
              "      <td>32560.000000</td>\n",
              "      <td>32560.000000</td>\n",
              "      <td>32560.000000</td>\n",
              "      <td>32560.000000</td>\n",
              "      <td>32560.000000</td>\n",
              "      <td>32560.000000</td>\n",
              "      <td>32560.000000</td>\n",
              "      <td>32560.000000</td>\n",
              "      <td>32560.000000</td>\n",
              "      <td>32560.000000</td>\n",
              "      <td>32560.000000</td>\n",
              "      <td>32560.000000</td>\n",
              "      <td>32560.000000</td>\n",
              "      <td>32560.000000</td>\n",
              "    </tr>\n",
              "    <tr>\n",
              "      <th>mean</th>\n",
              "      <td>0.428685</td>\n",
              "      <td>0.127825</td>\n",
              "      <td>0.630037</td>\n",
              "      <td>0.010776</td>\n",
              "      <td>0.020043</td>\n",
              "      <td>0.408459</td>\n",
              "      <td>0.483600</td>\n",
              "      <td>0.686550</td>\n",
              "      <td>0.435299</td>\n",
              "      <td>0.469494</td>\n",
              "      <td>0.289275</td>\n",
              "      <td>0.916462</td>\n",
              "      <td>0.669195</td>\n",
              "      <td>0.895580</td>\n",
              "      <td>0.240817</td>\n",
              "    </tr>\n",
              "    <tr>\n",
              "      <th>std</th>\n",
              "      <td>0.151563</td>\n",
              "      <td>0.071091</td>\n",
              "      <td>0.160794</td>\n",
              "      <td>0.073855</td>\n",
              "      <td>0.092508</td>\n",
              "      <td>0.124723</td>\n",
              "      <td>0.181985</td>\n",
              "      <td>0.258021</td>\n",
              "      <td>0.251038</td>\n",
              "      <td>0.302058</td>\n",
              "      <td>0.321359</td>\n",
              "      <td>0.212204</td>\n",
              "      <td>0.470510</td>\n",
              "      <td>0.190827</td>\n",
              "      <td>0.427586</td>\n",
              "    </tr>\n",
              "    <tr>\n",
              "      <th>min</th>\n",
              "      <td>0.188889</td>\n",
              "      <td>0.008274</td>\n",
              "      <td>0.062500</td>\n",
              "      <td>0.000000</td>\n",
              "      <td>0.000000</td>\n",
              "      <td>0.010101</td>\n",
              "      <td>0.000000</td>\n",
              "      <td>0.000000</td>\n",
              "      <td>0.000000</td>\n",
              "      <td>0.000000</td>\n",
              "      <td>0.000000</td>\n",
              "      <td>0.000000</td>\n",
              "      <td>0.000000</td>\n",
              "      <td>0.000000</td>\n",
              "      <td>0.000000</td>\n",
              "    </tr>\n",
              "    <tr>\n",
              "      <th>25%</th>\n",
              "      <td>0.311111</td>\n",
              "      <td>0.079364</td>\n",
              "      <td>0.562500</td>\n",
              "      <td>0.000000</td>\n",
              "      <td>0.000000</td>\n",
              "      <td>0.404040</td>\n",
              "      <td>0.500000</td>\n",
              "      <td>0.600000</td>\n",
              "      <td>0.333333</td>\n",
              "      <td>0.214286</td>\n",
              "      <td>0.000000</td>\n",
              "      <td>1.000000</td>\n",
              "      <td>0.000000</td>\n",
              "      <td>0.951220</td>\n",
              "      <td>0.000000</td>\n",
              "    </tr>\n",
              "    <tr>\n",
              "      <th>50%</th>\n",
              "      <td>0.411111</td>\n",
              "      <td>0.120134</td>\n",
              "      <td>0.625000</td>\n",
              "      <td>0.000000</td>\n",
              "      <td>0.000000</td>\n",
              "      <td>0.404040</td>\n",
              "      <td>0.500000</td>\n",
              "      <td>0.733333</td>\n",
              "      <td>0.333333</td>\n",
              "      <td>0.500000</td>\n",
              "      <td>0.200000</td>\n",
              "      <td>1.000000</td>\n",
              "      <td>1.000000</td>\n",
              "      <td>0.951220</td>\n",
              "      <td>0.000000</td>\n",
              "    </tr>\n",
              "    <tr>\n",
              "      <th>75%</th>\n",
              "      <td>0.533333</td>\n",
              "      <td>0.159664</td>\n",
              "      <td>0.750000</td>\n",
              "      <td>0.000000</td>\n",
              "      <td>0.000000</td>\n",
              "      <td>0.454545</td>\n",
              "      <td>0.500000</td>\n",
              "      <td>0.800000</td>\n",
              "      <td>0.666667</td>\n",
              "      <td>0.714286</td>\n",
              "      <td>0.600000</td>\n",
              "      <td>1.000000</td>\n",
              "      <td>1.000000</td>\n",
              "      <td>0.951220</td>\n",
              "      <td>0.000000</td>\n",
              "    </tr>\n",
              "    <tr>\n",
              "      <th>max</th>\n",
              "      <td>1.000000</td>\n",
              "      <td>1.000000</td>\n",
              "      <td>1.000000</td>\n",
              "      <td>1.000000</td>\n",
              "      <td>1.000000</td>\n",
              "      <td>1.000000</td>\n",
              "      <td>1.000000</td>\n",
              "      <td>1.000000</td>\n",
              "      <td>1.000000</td>\n",
              "      <td>1.000000</td>\n",
              "      <td>1.000000</td>\n",
              "      <td>1.000000</td>\n",
              "      <td>1.000000</td>\n",
              "      <td>1.000000</td>\n",
              "      <td>1.000000</td>\n",
              "    </tr>\n",
              "  </tbody>\n",
              "</table>\n",
              "</div>"
            ],
            "text/plain": [
              "                age        fnlwgt  ...  native-country_code   income_code\n",
              "count  32560.000000  32560.000000  ...         32560.000000  32560.000000\n",
              "mean       0.428685      0.127825  ...             0.895580      0.240817\n",
              "std        0.151563      0.071091  ...             0.190827      0.427586\n",
              "min        0.188889      0.008274  ...             0.000000      0.000000\n",
              "25%        0.311111      0.079364  ...             0.951220      0.000000\n",
              "50%        0.411111      0.120134  ...             0.951220      0.000000\n",
              "75%        0.533333      0.159664  ...             0.951220      0.000000\n",
              "max        1.000000      1.000000  ...             1.000000      1.000000\n",
              "\n",
              "[8 rows x 15 columns]"
            ]
          },
          "metadata": {
            "tags": []
          },
          "execution_count": 27
        }
      ]
    },
    {
      "cell_type": "markdown",
      "metadata": {
        "id": "M0E0wMrbILKT"
      },
      "source": [
        "> Les deux premières lignes de code ci-dessous créent des tableaux des variables indépendantes (X) et dépendantes (y), respectivement. \n",
        "\n",
        "> La troisième ligne divise les données en ensemble de données d'entraînement et de test\n",
        "\n",
        "> la quatrième ligne imprime la forme de l'entraînement et les données de test."
      ]
    },
    {
      "cell_type": "code",
      "metadata": {
        "id": "Lgo_teFvQKAY",
        "colab": {
          "base_uri": "https://localhost:8080/"
        },
        "outputId": "9304f4de-111e-40cf-e857-f1da5b3bf8e5"
      },
      "source": [
        "X = question3[predictors].values\n",
        "y = question3[target_column].values\n",
        "X_train, X_test, y_train, y_test = train_test_split(X, y, test_size = 0.30, random_state = 1  )\n",
        "print(X_train.shape)\n",
        "print(y_train.shape)\n"
      ],
      "execution_count": null,
      "outputs": [
        {
          "output_type": "stream",
          "text": [
            "(22792, 14)\n",
            "(22792, 1)\n"
          ],
          "name": "stdout"
        }
      ]
    },
    {
      "cell_type": "markdown",
      "metadata": {
        "id": "4_WkoaYFJIyL"
      },
      "source": [
        "> Dans cette étape, on va créer le modèle de réseau neuronal en utilisant l'objet estimateur de la bibliothèque scikit-learn, «Multi-Layer Perceptron Classifier». \n",
        "\n",
        "> La première ligne instancie le modèle avec l'argument «hidden_layer_sizes» défini sur trois \"hidden\", qui a le même nombre de neurones que le nombre d'entités dans l'ensemble de données.\n",
        "\n",
        ">  Nous sélectionnerons également \"relu\" comme fonction d'activation et \"adam\" comme solveur pour l'optimisation du poids.\n",
        "\n",
        "> La deuxième ligne de code adapte le modèle aux données d'apprentissage\n",
        "\n",
        ">  Les 3eme et 4eme lignes utilisent le modèle entraîné pour générer des prédictions sur l'ensemble de données d'apprentissage et de test, respectivement.\n"
      ]
    },
    {
      "cell_type": "code",
      "metadata": {
        "id": "AEz8uaBeRSri",
        "colab": {
          "base_uri": "https://localhost:8080/"
        },
        "outputId": "02ef72a0-2755-4f4d-f660-02ef3a7355c5"
      },
      "source": [
        "mlp = MLPClassifier(hidden_layer_sizes= (50, 100, 50), activation= 'relu', solver= 'adam', max_iter= 200 )\n",
        "mlp.fit(X_train, y_train)\n",
        "predict_train = mlp.predict(X_train)\n",
        "predict_test = mlp.predict(X_test)"
      ],
      "execution_count": null,
      "outputs": [
        {
          "output_type": "stream",
          "text": [
            "/usr/local/lib/python3.6/dist-packages/sklearn/neural_network/_multilayer_perceptron.py:934: DataConversionWarning: A column-vector y was passed when a 1d array was expected. Please change the shape of y to (n_samples, ), for example using ravel().\n",
            "  y = column_or_1d(y, warn=True)\n",
            "/usr/local/lib/python3.6/dist-packages/sklearn/neural_network/_multilayer_perceptron.py:571: ConvergenceWarning: Stochastic Optimizer: Maximum iterations (200) reached and the optimization hasn't converged yet.\n",
            "  % self.max_iter, ConvergenceWarning)\n"
          ],
          "name": "stderr"
        }
      ]
    },
    {
      "cell_type": "markdown",
      "metadata": {
        "id": "RjQqhJTQLxt0"
      },
      "source": [
        "> On exporte la fonction classification_report et les résultats dans la bibliothèque sklearn\n",
        "\n",
        "> La 2eme ligne et 3eme ligne la matrice de confusion et les résultats du rapport de confusion sur les données d'entraînement"
      ]
    },
    {
      "cell_type": "code",
      "metadata": {
        "id": "Ueq9UUi5Sw1h",
        "colab": {
          "base_uri": "https://localhost:8080/"
        },
        "outputId": "5dc880fe-3d8d-4347-9578-92105a6d7c35"
      },
      "source": [
        "from sklearn.metrics import classification_report, confusion_matrix\n",
        "print(confusion_matrix(y_train, predict_train))\n",
        "print(classification_report(y_train, predict_train))"
      ],
      "execution_count": null,
      "outputs": [
        {
          "output_type": "stream",
          "text": [
            "[[16093  1173]\n",
            " [ 1624  3902]]\n",
            "              precision    recall  f1-score   support\n",
            "\n",
            "           0       0.91      0.93      0.92     17266\n",
            "           1       0.77      0.71      0.74      5526\n",
            "\n",
            "    accuracy                           0.88     22792\n",
            "   macro avg       0.84      0.82      0.83     22792\n",
            "weighted avg       0.87      0.88      0.88     22792\n",
            "\n"
          ],
          "name": "stdout"
        }
      ]
    }
  ]
}