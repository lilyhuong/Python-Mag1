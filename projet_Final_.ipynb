{
  "nbformat": 4,
  "nbformat_minor": 0,
  "metadata": {
    "colab": {
      "name": "projet Final .ipynb",
      "provenance": [],
      "collapsed_sections": [],
      "include_colab_link": true
    },
    "kernelspec": {
      "name": "python3",
      "display_name": "Python 3"
    }
  },
  "cells": [
    {
      "cell_type": "markdown",
      "metadata": {
        "id": "view-in-github",
        "colab_type": "text"
      },
      "source": [
        "<a href=\"https://colab.research.google.com/github/lilyhuong/Python-Mag1/blob/main/projet_Final_.ipynb\" target=\"_parent\"><img src=\"https://colab.research.google.com/assets/colab-badge.svg\" alt=\"Open In Colab\"/></a>"
      ]
    },
    {
      "cell_type": "code",
      "metadata": {
        "id": "G1iBFRB1AUJU"
      },
      "source": [
        "import pandas as pd"
      ],
      "execution_count": 7,
      "outputs": []
    },
    {
      "cell_type": "code",
      "metadata": {
        "id": "pPXqjO70rEan",
        "colab": {
          "base_uri": "https://localhost:8080/",
          "height": 295
        },
        "outputId": "2d26db2c-9335-4842-a3ad-20597e956d1f"
      },
      "source": [
        "from matplotlib import pyplot as plt\n",
        "graph1 = pd.read_excel(\"http://adrianchifu.com/teachings/AMSE/MAG1/data.xlsx\", sheet_name = \"Graph\")\n",
        "graph1 = graph1.sort_values(by=\"Sizing\")\n",
        "plt.plot(graph1.Sizing, graph1.Timing, color = 'magenta', marker = '*', linestyle = 'dashed', linewidth = 2, \n",
        "         markersize = 10)\n",
        "plt.title(\"Sizing and Timing\")\n",
        "plt.xlabel(\"Sizing value\")\n",
        "plt.ylabel(\"Timing value\")\n",
        "plt.savefig('D:\\S1 - MAG 1\\Python\\plot.pdf') \n",
        "plt.show()"
      ],
      "execution_count": 9,
      "outputs": [
        {
          "output_type": "display_data",
          "data": {
            "image/png": "[encoded data removed]",
            "text/plain": [
              "<Figure size 432x288 with 1 Axes>"
            ]
          },
          "metadata": {
            "tags": [],
            "needs_background": "light"
          }
        }
      ]
    },
    {
      "cell_type": "code",
      "metadata": {
        "id": "wTMzr21ssC52",
        "colab": {
          "base_uri": "https://localhost:8080/"
        },
        "outputId": "5fdbd3cc-e299-4e54-e36f-05981bf3d600"
      },
      "source": [
        "import statsmodels.api as sm\n",
        "from statsmodels.tools import add_constant\n",
        "question2 = pd.read_excel(\"http://adrianchifu.com/teachings/AMSE/MAG1/data.xlsx\", sheet_name = \"Regression\")\n",
        "X = question2.drop(\"Blood alcohol concentration\", axis = 1)\n",
        "y = question2[\"Blood alcohol concentration\"]\n",
        "XRegBis = sm.tools.add_constant(X)\n",
        "Model = sm.Logit(y, XRegBis)\n",
        "res = Model.fit()\n",
        "print(res.summary())"
      ],
      "execution_count": 4,
      "outputs": [
        {
          "output_type": "stream",
          "text": [
            "/usr/local/lib/python3.6/dist-packages/statsmodels/tools/_testing.py:19: FutureWarning: pandas.util.testing is deprecated. Use the functions in the public API at pandas.testing instead.\n",
            "  import pandas.util.testing as tm\n"
          ],
          "name": "stderr"
        },
        {
          "output_type": "stream",
          "text": [
            "Optimization terminated successfully.\n",
            "         Current function value: 0.113699\n",
            "         Iterations 7\n",
            "                                Logit Regression Results                               \n",
            "=======================================================================================\n",
            "Dep. Variable:     Blood alcohol concentration   No. Observations:                   16\n",
            "Model:                                   Logit   Df Residuals:                       14\n",
            "Method:                                    MLE   Df Model:                            1\n",
            "Date:                         Wed, 02 Dec 2020   Pseudo R-squ.:                     inf\n",
            "Time:                                 17:02:55   Log-Likelihood:                -1.8192\n",
            "converged:                                True   LL-Null:                        0.0000\n",
            "Covariance Type:                     nonrobust   LLR p-value:                     1.000\n",
            "===================================================================================\n",
            "                      coef    std err          z      P>|z|      [0.025      0.975]\n",
            "-----------------------------------------------------------------------------------\n",
            "const              -3.9233      2.833     -1.385      0.166      -9.476       1.629\n",
            "Number of beers     0.2619      0.458      0.572      0.567      -0.636       1.160\n",
            "===================================================================================\n"
          ],
          "name": "stdout"
        },
        {
          "output_type": "stream",
          "text": [
            "/usr/local/lib/python3.6/dist-packages/statsmodels/discrete/discrete_model.py:3390: RuntimeWarning: divide by zero encountered in double_scalars\n",
            "  return 1 - self.llf/self.llnull\n"
          ],
          "name": "stderr"
        }
      ]
    },
    {
      "cell_type": "code",
      "metadata": {
        "colab": {
          "base_uri": "https://localhost:8080/"
        },
        "id": "-tSoDcVSZHw1",
        "outputId": "d834d1ad-ff84-4acd-e5fd-89649060be9d"
      },
      "source": [
        "import pandas as pd\n",
        "import sklearn \n",
        "from sklearn.neural_network import MLPClassifier \n",
        "from sklearn.neural_network import MLPRegressor\n",
        "from sklearn.preprocessing import LabelEncoder\n",
        "def Cleaning_base(base, table):\n",
        "  global question3\n",
        "  question3 = pd.read_excel(base, sheet_name = table) \n",
        "  question3.columns = [\"age\",\"workclass\", \"fnlwgt\", \"education\", \"education-num\", \"marital-status\",\"occupation\", \"relationship\", \"race\", \"sex\", \"capital-gain\", \"capital-loss\",\"hours-per-week\",\"native-country\", \"income\"]\n",
        "  question3.replace(['Divorced', 'Married-AF-spouse', 'Married-civ-spouse', 'Married-spouse-absent','Never-married','Separated','Widowed'],\n",
        "                      ['divorced','married','married','married','not married','not married','not married'], inplace = True)\n",
        "  lb_make = LabelEncoder()\n",
        "  question3['workclass_code'] = lb_make.fit_transform(question3[\"workclass\"])\n",
        "  question3['education_code'] = lb_make.fit_transform(question3[\"education\"])\n",
        "  question3['marital-status_code'] = lb_make.fit_transform(question3[\"marital-status\"])\n",
        "  question3['occupation_code'] = lb_make.fit_transform(question3[\"occupation\"])\n",
        "  question3['relationship_code'] = lb_make.fit_transform(question3[\"relationship\"])\n",
        "  question3['race_code'] = lb_make.fit_transform(question3[\"race\"])\n",
        "  question3['sex_code'] = lb_make.fit_transform(question3[\"sex\"])\n",
        "  question3['native-country_code'] = lb_make.fit_transform(question3[\"native-country\"])\n",
        "  question3['income_code'] = lb_make.fit_transform(question3[\"income\"])\n",
        "  question3 = question3.drop([\"workclass\", \"education\",\"education-num\", \"marital-status\", \"occupation\", \"relationship\",\"race\", \"sex\", \"income\", \"native-country\", \"fnlwgt\"], axis = 1 )\n",
        "  return\n",
        "Cleaning_base (\"http://adrianchifu.com/teachings/AMSE/MAG1/data.xlsx\", \"NN.train\")\n",
        "base1 = question3\n",
        "Cleaning_base (\"http://adrianchifu.com/teachings/AMSE/MAG1/data.xlsx\", \"NN.test\")\n",
        "base2 = question3\n",
        "target_column1 = [\"income_code\"]\n",
        "predictors1 = list(set(list(base1.columns)) - set(target_column1))\n",
        "base1[predictors1] = base1[predictors1] / base1[predictors1].max()\n",
        "target_column2 = [\"income_code\"]\n",
        "predictors2 = list(set(list(base2.columns)) - set(target_column2))\n",
        "base2[predictors2] = base2[predictors2] / base2[predictors2].max()\n",
        "X_train = base1[predictors1].values\n",
        "y_train = base1[target_column1].values\n",
        "X_test = base2[predictors2].values\n",
        "y_test = base2[target_column2].values\n",
        "mlp = MLPClassifier(hidden_layer_sizes= (50, 100, 50), activation= 'relu', solver= 'adam', max_iter= 200 )\n",
        "mlp.fit(X_train, y_train)\n",
        "predict_train = mlp.predict(X_train)\n",
        "predict_test = mlp.predict(X_test)\n",
        "from sklearn.metrics import classification_report, confusion_matrix\n",
        "print(confusion_matrix(y_train, predict_train))\n",
        "print(classification_report(y_train, predict_train))\n",
        "print(confusion_matrix(y_test,predict_test))\n",
        "print(classification_report(y_test,predict_test))"
      ],
      "execution_count": 5,
      "outputs": [
        {
          "output_type": "stream",
          "text": [
            "/usr/local/lib/python3.6/dist-packages/sklearn/neural_network/_multilayer_perceptron.py:934: DataConversionWarning: A column-vector y was passed when a 1d array was expected. Please change the shape of y to (n_samples, ), for example using ravel().\n",
            "  y = column_or_1d(y, warn=True)\n",
            "/usr/local/lib/python3.6/dist-packages/sklearn/neural_network/_multilayer_perceptron.py:571: ConvergenceWarning: Stochastic Optimizer: Maximum iterations (200) reached and the optimization hasn't converged yet.\n",
            "  % self.max_iter, ConvergenceWarning)\n"
          ],
          "name": "stderr"
        },
        {
          "output_type": "stream",
          "text": [
            "[[23300  1419]\n",
            " [ 2905  4936]]\n",
            "              precision    recall  f1-score   support\n",
            "\n",
            "           0       0.89      0.94      0.92     24719\n",
            "           1       0.78      0.63      0.70      7841\n",
            "\n",
            "    accuracy                           0.87     32560\n",
            "   macro avg       0.83      0.79      0.81     32560\n",
            "weighted avg       0.86      0.87      0.86     32560\n",
            "\n",
            "[[11511   923]\n",
            " [ 1626  2220]]\n",
            "              precision    recall  f1-score   support\n",
            "\n",
            "           0       0.88      0.93      0.90     12434\n",
            "           1       0.71      0.58      0.64      3846\n",
            "\n",
            "    accuracy                           0.84     16280\n",
            "   macro avg       0.79      0.75      0.77     16280\n",
            "weighted avg       0.84      0.84      0.84     16280\n",
            "\n"
          ],
          "name": "stdout"
        }
      ]
    },
    {
      "cell_type": "markdown",
      "metadata": {
        "id": "oxYpd7FqZHOs"
      },
      "source": [
        ""
      ]
    }
  ]
}